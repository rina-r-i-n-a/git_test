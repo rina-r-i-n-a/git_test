{
 "cells": [
  {
   "cell_type": "markdown",
   "id": "3e07beb5-8313-4174-9273-ece032522972",
   "metadata": {},
   "source": [
    "## Выполнила: Фоломеева Марина"
   ]
  },
  {
   "cell_type": "code",
   "execution_count": 3,
   "id": "bde604d5-bc2b-455b-8855-ff70bcaa9009",
   "metadata": {},
   "outputs": [
    {
     "name": "stdin",
     "output_type": "stream",
     "text": [
      " 2024\n"
     ]
    },
    {
     "name": "stdout",
     "output_type": "stream",
     "text": [
      "Високосный год\n"
     ]
    }
   ],
   "source": [
    "year = int(input())\n",
    "if year % 4 == 0:\n",
    "    print('Високосный год')\n",
    "else:\n",
    "    print('Обычный год')"
   ]
  },
  {
   "cell_type": "code",
   "execution_count": 15,
   "id": "b8faf16e-c6ec-49c4-8c71-d1a8f392a7dc",
   "metadata": {},
   "outputs": [
    {
     "name": "stdin",
     "output_type": "stream",
     "text": [
      " 123321\n"
     ]
    },
    {
     "name": "stdout",
     "output_type": "stream",
     "text": [
      "Счастливый билет\n"
     ]
    }
   ],
   "source": [
    "number = input()\n",
    "\n",
    "def digit_sum(n):\n",
    "    digits = []\n",
    "    nstr = str(n)\n",
    "    for x in nstr:\n",
    "        digits.append(int(x))\n",
    "    return sum(digits)\n",
    "    \n",
    "if digit_sum(number[:3]) == digit_sum(number[3:]):\n",
    "    print('Счастливый билет')\n",
    "else:\n",
    "    print('Несчастливый билет')"
   ]
  },
  {
   "cell_type": "code",
   "execution_count": null,
   "id": "ee3bcbb8-8bf2-4a85-b9a7-a962e4069c9b",
   "metadata": {},
   "outputs": [],
   "source": []
  }
 ],
 "metadata": {
  "kernelspec": {
   "display_name": "Python 3 (ipykernel)",
   "language": "python",
   "name": "python3"
  },
  "language_info": {
   "codemirror_mode": {
    "name": "ipython",
    "version": 3
   },
   "file_extension": ".py",
   "mimetype": "text/x-python",
   "name": "python",
   "nbconvert_exporter": "python",
   "pygments_lexer": "ipython3",
   "version": "3.11.5"
  }
 },
 "nbformat": 4,
 "nbformat_minor": 5
}
