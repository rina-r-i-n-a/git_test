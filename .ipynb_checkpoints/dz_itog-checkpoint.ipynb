{
 "cells": [
  {
   "cell_type": "code",
   "execution_count": 1,
   "id": "6121859f-bf7c-4ced-bc1d-b077683065ea",
   "metadata": {},
   "outputs": [],
   "source": [
    "import pandas as pd\n",
    "import numpy as np\n",
    "import matplotlib.pyplot as plt\n",
    "from scipy.stats import norm\n",
    "import seaborn as sns\n",
    "import statsmodels.api as sm\n",
    "from statsmodels.formula.api import ols"
   ]
  },
  {
   "cell_type": "markdown",
   "id": "e8f21919-819a-4a42-b7d7-d81aeb24f5a6",
   "metadata": {},
   "source": [
    "## Задание 1\n",
    "Загрузите в библиотеку Pandas DataFrame из CSV-файла исходные данные о покупателях с веб-портала (все строки). При необходимости преобразуйте данные."
   ]
  },
  {
   "cell_type": "code",
   "execution_count": 2,
   "id": "61080d3b-9ac2-44a9-a939-c22d7008c42a",
   "metadata": {},
   "outputs": [
    {
     "data": {
      "text/html": [
       "<div>\n",
       "<style scoped>\n",
       "    .dataframe tbody tr th:only-of-type {\n",
       "        vertical-align: middle;\n",
       "    }\n",
       "\n",
       "    .dataframe tbody tr th {\n",
       "        vertical-align: top;\n",
       "    }\n",
       "\n",
       "    .dataframe thead th {\n",
       "        text-align: right;\n",
       "    }\n",
       "</style>\n",
       "<table border=\"1\" class=\"dataframe\">\n",
       "  <thead>\n",
       "    <tr style=\"text-align: right;\">\n",
       "      <th></th>\n",
       "      <th>name</th>\n",
       "      <th>device_type</th>\n",
       "      <th>browser</th>\n",
       "      <th>sex</th>\n",
       "      <th>age</th>\n",
       "      <th>bill</th>\n",
       "      <th>region</th>\n",
       "    </tr>\n",
       "  </thead>\n",
       "  <tbody>\n",
       "    <tr>\n",
       "      <th>0</th>\n",
       "      <td>Allen  Miss. Elisabeth Walton</td>\n",
       "      <td>mobile</td>\n",
       "      <td>Chrome</td>\n",
       "      <td>female</td>\n",
       "      <td>29.0</td>\n",
       "      <td>885</td>\n",
       "      <td>St Louis: MO</td>\n",
       "    </tr>\n",
       "    <tr>\n",
       "      <th>1</th>\n",
       "      <td>Allison  Master. Hudson Trevor</td>\n",
       "      <td>tablet</td>\n",
       "      <td>Opera</td>\n",
       "      <td>male</td>\n",
       "      <td>48.0</td>\n",
       "      <td>850</td>\n",
       "      <td>Montreal: PQ / Chesterville: ON</td>\n",
       "    </tr>\n",
       "    <tr>\n",
       "      <th>2</th>\n",
       "      <td>Allison  Miss. Helen Loraine</td>\n",
       "      <td>laptop</td>\n",
       "      <td>Firefox</td>\n",
       "      <td>female</td>\n",
       "      <td>48.0</td>\n",
       "      <td>1034</td>\n",
       "      <td>Montreal: PQ / Chesterville: ON</td>\n",
       "    </tr>\n",
       "    <tr>\n",
       "      <th>3</th>\n",
       "      <td>Allison  Mr. Hudson Joshua Creighton</td>\n",
       "      <td>desktop</td>\n",
       "      <td>Internet Explorer</td>\n",
       "      <td>male</td>\n",
       "      <td>30.0</td>\n",
       "      <td>214</td>\n",
       "      <td>Montreal: PQ / Chesterville: ON</td>\n",
       "    </tr>\n",
       "    <tr>\n",
       "      <th>4</th>\n",
       "      <td>Allison  Mrs. Hudson J C (Bessie Waldo Daniels)</td>\n",
       "      <td>laptop</td>\n",
       "      <td>Firefox</td>\n",
       "      <td>female</td>\n",
       "      <td>25.0</td>\n",
       "      <td>993</td>\n",
       "      <td>Montreal: PQ / Chesterville: ON</td>\n",
       "    </tr>\n",
       "    <tr>\n",
       "      <th>...</th>\n",
       "      <td>...</td>\n",
       "      <td>...</td>\n",
       "      <td>...</td>\n",
       "      <td>...</td>\n",
       "      <td>...</td>\n",
       "      <td>...</td>\n",
       "      <td>...</td>\n",
       "    </tr>\n",
       "    <tr>\n",
       "      <th>910</th>\n",
       "      <td>Kallio  Mr. Nikolai Erland</td>\n",
       "      <td>tablet</td>\n",
       "      <td>Opera</td>\n",
       "      <td>male</td>\n",
       "      <td>17.0</td>\n",
       "      <td>1273</td>\n",
       "      <td>None</td>\n",
       "    </tr>\n",
       "    <tr>\n",
       "      <th>911</th>\n",
       "      <td>Kalvik  Mr. Johannes Halvorsen</td>\n",
       "      <td>mobile</td>\n",
       "      <td>Opera</td>\n",
       "      <td>male</td>\n",
       "      <td>21.0</td>\n",
       "      <td>1136</td>\n",
       "      <td>None</td>\n",
       "    </tr>\n",
       "    <tr>\n",
       "      <th>912</th>\n",
       "      <td>Karaic  Mr. Milan</td>\n",
       "      <td>desktop</td>\n",
       "      <td>Opera</td>\n",
       "      <td>male</td>\n",
       "      <td>30.0</td>\n",
       "      <td>465</td>\n",
       "      <td>None</td>\n",
       "    </tr>\n",
       "    <tr>\n",
       "      <th>913</th>\n",
       "      <td>Karlsson  Mr. Einar Gervasius</td>\n",
       "      <td>desktop</td>\n",
       "      <td>Internet Explorer</td>\n",
       "      <td>male</td>\n",
       "      <td>21.0</td>\n",
       "      <td>275</td>\n",
       "      <td>None</td>\n",
       "    </tr>\n",
       "    <tr>\n",
       "      <th>914</th>\n",
       "      <td>Karlsson  Mr. Julius Konrad Eugen</td>\n",
       "      <td>laptop</td>\n",
       "      <td>Opera</td>\n",
       "      <td>male</td>\n",
       "      <td>33.0</td>\n",
       "      <td>798</td>\n",
       "      <td>None</td>\n",
       "    </tr>\n",
       "  </tbody>\n",
       "</table>\n",
       "<p>915 rows × 7 columns</p>\n",
       "</div>"
      ],
      "text/plain": [
       "                                                name device_type  \\\n",
       "0                      Allen  Miss. Elisabeth Walton      mobile   \n",
       "1                     Allison  Master. Hudson Trevor      tablet   \n",
       "2                       Allison  Miss. Helen Loraine      laptop   \n",
       "3               Allison  Mr. Hudson Joshua Creighton     desktop   \n",
       "4    Allison  Mrs. Hudson J C (Bessie Waldo Daniels)      laptop   \n",
       "..                                               ...         ...   \n",
       "910                       Kallio  Mr. Nikolai Erland      tablet   \n",
       "911                   Kalvik  Mr. Johannes Halvorsen      mobile   \n",
       "912                                Karaic  Mr. Milan     desktop   \n",
       "913                    Karlsson  Mr. Einar Gervasius     desktop   \n",
       "914                Karlsson  Mr. Julius Konrad Eugen      laptop   \n",
       "\n",
       "               browser     sex   age  bill                           region  \n",
       "0               Chrome  female  29.0   885                     St Louis: MO  \n",
       "1                Opera    male  48.0   850  Montreal: PQ / Chesterville: ON  \n",
       "2              Firefox  female  48.0  1034  Montreal: PQ / Chesterville: ON  \n",
       "3    Internet Explorer    male  30.0   214  Montreal: PQ / Chesterville: ON  \n",
       "4              Firefox  female  25.0   993  Montreal: PQ / Chesterville: ON  \n",
       "..                 ...     ...   ...   ...                              ...  \n",
       "910              Opera    male  17.0  1273                             None  \n",
       "911              Opera    male  21.0  1136                             None  \n",
       "912              Opera    male  30.0   465                             None  \n",
       "913  Internet Explorer    male  21.0   275                             None  \n",
       "914              Opera    male  33.0   798                             None  \n",
       "\n",
       "[915 rows x 7 columns]"
      ]
     },
     "execution_count": 2,
     "metadata": {},
     "output_type": "execute_result"
    }
   ],
   "source": [
    "# чтение файла\n",
    "\n",
    "df = pd.read_csv('web_clients_correct.csv', sep=',')\n",
    "df['region'] = df['region'].replace('-', None)\n",
    "df"
   ]
  },
  {
   "cell_type": "code",
   "execution_count": 3,
   "id": "30be4b05-b0f1-4bdd-b797-b469ff80f098",
   "metadata": {
    "collapsed": true,
    "jupyter": {
     "outputs_hidden": true
    }
   },
   "outputs": [
    {
     "data": {
      "text/plain": [
       "array(['St Louis', 'Montreal', 'New York', 'Hudson', 'Belfast', 'Bayside',\n",
       "       'Montevideo', 'Paris', None, 'Hessle', 'Winnipeg', 'San Francisco',\n",
       "       'Dowagiac', 'Stockholm', 'Trenton', 'Glen Ridge', 'Youngstown',\n",
       "       'Birkdale', 'London ', 'Cooperstown', 'St Leonards-on-Sea',\n",
       "       'Los Angeles', 'Pomeroy', 'Omaha', 'Philadelphia', 'Denver',\n",
       "       'Belmont', 'Washington', 'Austria-Hungary ', 'Germantown',\n",
       "       'Bryn Mawr', 'Ascot', 'Little Onn Hall', 'Amenia', 'London',\n",
       "       'Liverpool', 'Stoughton', 'Victoria', 'Lakewood', 'Roachdale',\n",
       "       'Milwaukee', 'Lima', 'Calgary', 'Deephaven', 'Mt Airy',\n",
       "       'Brookline', 'Brooklyn', 'Westcliff-on-Sea', 'Zurich', 'Scituate',\n",
       "       \"St Anne's-on-Sea\", 'Greenwich', 'Kingston', 'Brighton', 'Chicago',\n",
       "       'Indianapolis', 'Bennington', 'Buffalo', 'Southington ', 'Boston',\n",
       "       'Portland', 'Springfield', 'Brockton', 'Belgium  Montreal',\n",
       "       'Vancouver', 'Dorchester', 'East Bridgewater', 'Fond du Lac',\n",
       "       'Green Bay', 'Lexington', 'Isle of Wight', 'Providence', '?Havana',\n",
       "       'Surbiton Hill', 'Isleworth', 'Madrid', 'Toronto', 'Worcester',\n",
       "       'Rotterdam', 'Paris ', 'Seattle', 'London  Vancouver', 'Haverford',\n",
       "       'Manchester', 'Duluth', 'Basel', 'New Britain', 'St James',\n",
       "       'Huntington', 'Streatham', 'Minneapolis', 'Tuxedo Park',\n",
       "       'Wimbledon Park', 'Newark', 'Gallipolis', 'Cincinatti',\n",
       "       'Haddenfield', 'Albany', 'Mexico City', 'East Orange',\n",
       "       'England Salt Lake City', 'Brunswick', 'Elkins Park', 'Geneva',\n",
       "       'Halifax', 'Russia New York', 'Buenos Aires', 'Cornwall',\n",
       "       'Warwick', 'West Hoboken', 'Penzance', 'Guernsey', 'Bristol',\n",
       "       'Plymouth', 'Jacksonville', 'Norwich ', 'England', 'Guntur',\n",
       "       'Rochester', 'St Ives', 'Elmira', 'Lake Arthur', 'Cape Town',\n",
       "       'Skara', 'Sittingbourne', 'Southsea', 'Bangkok', 'Mamaroneck',\n",
       "       'Bronx', 'Cornwall ', 'England ', 'Hartford', 'Helsinki',\n",
       "       'Bishopstoke', 'Pennsylvania', 'Provo', 'Upper Burma', 'Lyndhurst',\n",
       "       'Portugal ', 'Lucca', 'Guernsey ', 'New Forest', 'Southampton',\n",
       "       'Holley', 'Greenport', 'Barcelona', 'Goteborg', 'Oslo', 'Janjgir',\n",
       "       'Liverpool ', 'West Kensington', 'Clevedon', 'Auburn', 'Detroit',\n",
       "       'Denmark Hill', 'Walthamstow', 'Ilford', 'Somerset ', 'India ',\n",
       "       'West Hampstead', 'Kontiolahti', 'Devonport', 'Tokyo', 'Swindon',\n",
       "       'North Evington', 'Moscow ', 'Harrisburg', 'Glasgow ', 'Sweden ',\n",
       "       'Berne', 'Weston-Super-Mare', 'Southampton ', 'St Austall',\n",
       "       'Weston-Super-Mare ', 'Sydney', 'Sarnia', 'Chelsea',\n",
       "       'Harrow-on-the-Hill', 'Copenhagen', 'Frankfort', 'Halesworth',\n",
       "       'Cambridge', 'Nice', 'Glasgow', 'Cologne', 'Folkstone',\n",
       "       'Middleburg Heights', 'Pondersend', 'Spain ', 'Hamilton',\n",
       "       'St Andrews', 'Woodford County', 'Gunnislake', 'Ilfracombe',\n",
       "       'Russia', 'Denmark ', 'Milford', 'Elizabeth', 'Spain', 'Hornsey',\n",
       "       'Deer Lodge', 'Finland ', 'Sault St Marie', 'Catford', 'Columbus',\n",
       "       'Bath', 'Barre', 'Aberdeen ', 'Bromsgrove', 'Bournmouth', 'Harrow',\n",
       "       'Yoevil', 'East Providence', 'Norway Los Angeles',\n",
       "       'Perkins County', 'Taalintehdas', 'Greensburg', 'Asarum',\n",
       "       'Bournemouth', 'Sweden Akeley', 'Syria Fredericksburg',\n",
       "       'England Albion', 'Salo', 'Argentina', 'Lower Clapton', 'Windsor',\n",
       "       'Bergen', 'Sweden Winnipeg', 'Ruotsinphyhtaa', 'Vadsbro',\n",
       "       'Sweden Chicago', 'Bulgaria Chicago', 'Altdorf', 'Sweden Joliet',\n",
       "       'Sweden  Worcester', 'Sweden Worcester', 'Oskarshamn', 'Ottawa',\n",
       "       'Krakoryd', 'Syria Youngstown', 'Ruotsinphytaa', 'Syria New York',\n",
       "       'London Skanteales', 'Syria Ottawa', 'England New York',\n",
       "       'Krakudden', 'Tranvik', 'Syria', 'Hong Kong New York', 'Brennes',\n",
       "       'Syria Kent', 'Ireland Chicago', 'Treherbert', 'Kingwilliamstown',\n",
       "       'Medeltorp', 'Bridgerule', 'Broomfield', 'Co Cork', 'Co Sligo',\n",
       "       'Croatia', 'Ireland Philadelphia', 'Dagsas', 'Co Longford',\n",
       "       'St Denys', 'Ireland New York', 'Greece', 'Portugal',\n",
       "       'London Brooklyn', 'Co Limerick', 'Ireland Brooklyn', 'Ireland',\n",
       "       'Austria', 'England Brooklyn', 'Merrill', 'Austria-Hungary',\n",
       "       'Australia Fingal', 'Norrlot', 'Co Athlone', 'Stanton',\n",
       "       'West Bromwich', 'Tampico', 'Belgium Detroit', 'Devon',\n",
       "       'Bulgaria Coon Rapids', 'Kilmacowen', 'England Oglesby',\n",
       "       'Union Hill', 'London New York', 'Austria Niagara Falls',\n",
       "       'West Haven', 'Tofta', 'Karberg', 'Effington Rut', 'Illinois',\n",
       "       'Aughnacliff', 'Italy Philadelphia', 'Rotherfield', 'Bridgwater',\n",
       "       'Co Clare', 'Strood', 'Wiltshire', 'Dorking', 'Foresvik',\n",
       "       'Waukegan', 'Myren'], dtype=object)"
      ]
     },
     "execution_count": 3,
     "metadata": {},
     "output_type": "execute_result"
    }
   ],
   "source": [
    "# чистка регионов\n",
    "\n",
    "df['region'] = df['region'].str.split('/').str[0]\n",
    "df['region'] = df['region'].str.split(':').str[0]\n",
    "df['region'].unique()"
   ]
  },
  {
   "cell_type": "markdown",
   "id": "39da7683-61ea-4eca-9012-b28fa8524002",
   "metadata": {},
   "source": [
    "## Задание 2\n",
    "Выполните анализ используемых браузеров, устройств, пола, региона, сумм покупки. Сформируйте сводные таблицы с указанием min, max, avg, median по суммам покупки. Чтобы выполнить задание, нужно использовать библиотеку Pandas."
   ]
  },
  {
   "cell_type": "code",
   "execution_count": 4,
   "id": "5a8ccedf-6c0d-4980-b84e-5cd81f9911a1",
   "metadata": {},
   "outputs": [
    {
     "data": {
      "text/html": [
       "<div>\n",
       "<style scoped>\n",
       "    .dataframe tbody tr th:only-of-type {\n",
       "        vertical-align: middle;\n",
       "    }\n",
       "\n",
       "    .dataframe tbody tr th {\n",
       "        vertical-align: top;\n",
       "    }\n",
       "\n",
       "    .dataframe thead tr th {\n",
       "        text-align: left;\n",
       "    }\n",
       "\n",
       "    .dataframe thead tr:last-of-type th {\n",
       "        text-align: right;\n",
       "    }\n",
       "</style>\n",
       "<table border=\"1\" class=\"dataframe\">\n",
       "  <thead>\n",
       "    <tr>\n",
       "      <th></th>\n",
       "      <th>min</th>\n",
       "      <th>max</th>\n",
       "      <th>median</th>\n",
       "      <th>sum</th>\n",
       "      <th>count</th>\n",
       "      <th>avg</th>\n",
       "    </tr>\n",
       "    <tr>\n",
       "      <th></th>\n",
       "      <th>bill</th>\n",
       "      <th>bill</th>\n",
       "      <th>bill</th>\n",
       "      <th>bill</th>\n",
       "      <th>bill</th>\n",
       "      <th>bill</th>\n",
       "    </tr>\n",
       "    <tr>\n",
       "      <th>device_type</th>\n",
       "      <th></th>\n",
       "      <th></th>\n",
       "      <th></th>\n",
       "      <th></th>\n",
       "      <th></th>\n",
       "      <th></th>\n",
       "    </tr>\n",
       "  </thead>\n",
       "  <tbody>\n",
       "    <tr>\n",
       "      <th>desktop</th>\n",
       "      <td>34</td>\n",
       "      <td>1485</td>\n",
       "      <td>820</td>\n",
       "      <td>175438</td>\n",
       "      <td>221</td>\n",
       "      <td>793.84</td>\n",
       "    </tr>\n",
       "    <tr>\n",
       "      <th>laptop</th>\n",
       "      <td>42</td>\n",
       "      <td>1477</td>\n",
       "      <td>823</td>\n",
       "      <td>177205</td>\n",
       "      <td>221</td>\n",
       "      <td>801.83</td>\n",
       "    </tr>\n",
       "    <tr>\n",
       "      <th>mobile</th>\n",
       "      <td>40</td>\n",
       "      <td>1497</td>\n",
       "      <td>735</td>\n",
       "      <td>173531</td>\n",
       "      <td>235</td>\n",
       "      <td>738.43</td>\n",
       "    </tr>\n",
       "    <tr>\n",
       "      <th>tablet</th>\n",
       "      <td>33</td>\n",
       "      <td>1500</td>\n",
       "      <td>744</td>\n",
       "      <td>182329</td>\n",
       "      <td>238</td>\n",
       "      <td>766.09</td>\n",
       "    </tr>\n",
       "  </tbody>\n",
       "</table>\n",
       "</div>"
      ],
      "text/plain": [
       "             min   max median     sum count     avg\n",
       "            bill  bill   bill    bill  bill    bill\n",
       "device_type                                        \n",
       "desktop       34  1485    820  175438   221  793.84\n",
       "laptop        42  1477    823  177205   221  801.83\n",
       "mobile        40  1497    735  173531   235  738.43\n",
       "tablet        33  1500    744  182329   238  766.09"
      ]
     },
     "execution_count": 4,
     "metadata": {},
     "output_type": "execute_result"
    }
   ],
   "source": [
    "# сводная по типу устройств\n",
    "\n",
    "tbl_1 = pd.pivot_table(df, index='device_type', values='bill', aggfunc=['min', 'max', 'median', 'sum', 'count'])\n",
    "tbl_1[('avg', 'bill')] = (tbl_1[('sum', 'bill')] / tbl_1[('count', 'bill')]).round(2)\n",
    "tbl_1"
   ]
  },
  {
   "cell_type": "code",
   "execution_count": 5,
   "id": "157ec996-c931-4543-837d-ec85993a5fd2",
   "metadata": {},
   "outputs": [
    {
     "data": {
      "text/html": [
       "<div>\n",
       "<style scoped>\n",
       "    .dataframe tbody tr th:only-of-type {\n",
       "        vertical-align: middle;\n",
       "    }\n",
       "\n",
       "    .dataframe tbody tr th {\n",
       "        vertical-align: top;\n",
       "    }\n",
       "\n",
       "    .dataframe thead tr th {\n",
       "        text-align: left;\n",
       "    }\n",
       "\n",
       "    .dataframe thead tr:last-of-type th {\n",
       "        text-align: right;\n",
       "    }\n",
       "</style>\n",
       "<table border=\"1\" class=\"dataframe\">\n",
       "  <thead>\n",
       "    <tr>\n",
       "      <th></th>\n",
       "      <th>min</th>\n",
       "      <th>max</th>\n",
       "      <th>median</th>\n",
       "      <th>sum</th>\n",
       "      <th>count</th>\n",
       "      <th>avg</th>\n",
       "    </tr>\n",
       "    <tr>\n",
       "      <th></th>\n",
       "      <th>bill</th>\n",
       "      <th>bill</th>\n",
       "      <th>bill</th>\n",
       "      <th>bill</th>\n",
       "      <th>bill</th>\n",
       "      <th>bill</th>\n",
       "    </tr>\n",
       "    <tr>\n",
       "      <th>browser</th>\n",
       "      <th></th>\n",
       "      <th></th>\n",
       "      <th></th>\n",
       "      <th></th>\n",
       "      <th></th>\n",
       "      <th></th>\n",
       "    </tr>\n",
       "  </thead>\n",
       "  <tbody>\n",
       "    <tr>\n",
       "      <th>Chrome</th>\n",
       "      <td>40</td>\n",
       "      <td>1500</td>\n",
       "      <td>756.0</td>\n",
       "      <td>233255</td>\n",
       "      <td>305</td>\n",
       "      <td>764.77</td>\n",
       "    </tr>\n",
       "    <tr>\n",
       "      <th>Firefox</th>\n",
       "      <td>33</td>\n",
       "      <td>1496</td>\n",
       "      <td>804.0</td>\n",
       "      <td>239729</td>\n",
       "      <td>300</td>\n",
       "      <td>799.10</td>\n",
       "    </tr>\n",
       "    <tr>\n",
       "      <th>Internet Explorer</th>\n",
       "      <td>60</td>\n",
       "      <td>1477</td>\n",
       "      <td>694.5</td>\n",
       "      <td>100427</td>\n",
       "      <td>140</td>\n",
       "      <td>717.34</td>\n",
       "    </tr>\n",
       "    <tr>\n",
       "      <th>Opera</th>\n",
       "      <td>35</td>\n",
       "      <td>1493</td>\n",
       "      <td>846.5</td>\n",
       "      <td>135092</td>\n",
       "      <td>170</td>\n",
       "      <td>794.66</td>\n",
       "    </tr>\n",
       "  </tbody>\n",
       "</table>\n",
       "</div>"
      ],
      "text/plain": [
       "                   min   max median     sum count     avg\n",
       "                  bill  bill   bill    bill  bill    bill\n",
       "browser                                                  \n",
       "Chrome              40  1500  756.0  233255   305  764.77\n",
       "Firefox             33  1496  804.0  239729   300  799.10\n",
       "Internet Explorer   60  1477  694.5  100427   140  717.34\n",
       "Opera               35  1493  846.5  135092   170  794.66"
      ]
     },
     "execution_count": 5,
     "metadata": {},
     "output_type": "execute_result"
    }
   ],
   "source": [
    "# сводная по браузерам\n",
    "\n",
    "tbl_2 = pd.pivot_table(df, index='browser', values='bill', aggfunc=['min', 'max', 'median', 'sum', 'count'])\n",
    "tbl_2[('avg', 'bill')] = (tbl_2[('sum', 'bill')] / tbl_2[('count', 'bill')]).round(2)\n",
    "tbl_2"
   ]
  },
  {
   "cell_type": "code",
   "execution_count": 6,
   "id": "3e2ed18f-2b3f-4237-8bc8-bdb38f8ad5f4",
   "metadata": {},
   "outputs": [
    {
     "data": {
      "text/html": [
       "<div>\n",
       "<style scoped>\n",
       "    .dataframe tbody tr th:only-of-type {\n",
       "        vertical-align: middle;\n",
       "    }\n",
       "\n",
       "    .dataframe tbody tr th {\n",
       "        vertical-align: top;\n",
       "    }\n",
       "\n",
       "    .dataframe thead tr th {\n",
       "        text-align: left;\n",
       "    }\n",
       "\n",
       "    .dataframe thead tr:last-of-type th {\n",
       "        text-align: right;\n",
       "    }\n",
       "</style>\n",
       "<table border=\"1\" class=\"dataframe\">\n",
       "  <thead>\n",
       "    <tr>\n",
       "      <th></th>\n",
       "      <th>min</th>\n",
       "      <th>max</th>\n",
       "      <th>median</th>\n",
       "      <th>sum</th>\n",
       "      <th>count</th>\n",
       "      <th>avg</th>\n",
       "    </tr>\n",
       "    <tr>\n",
       "      <th></th>\n",
       "      <th>bill</th>\n",
       "      <th>bill</th>\n",
       "      <th>bill</th>\n",
       "      <th>bill</th>\n",
       "      <th>bill</th>\n",
       "      <th>bill</th>\n",
       "    </tr>\n",
       "    <tr>\n",
       "      <th>sex</th>\n",
       "      <th></th>\n",
       "      <th></th>\n",
       "      <th></th>\n",
       "      <th></th>\n",
       "      <th></th>\n",
       "      <th></th>\n",
       "    </tr>\n",
       "  </thead>\n",
       "  <tbody>\n",
       "    <tr>\n",
       "      <th>female</th>\n",
       "      <td>33</td>\n",
       "      <td>1500</td>\n",
       "      <td>769</td>\n",
       "      <td>266147</td>\n",
       "      <td>344</td>\n",
       "      <td>773.68</td>\n",
       "    </tr>\n",
       "    <tr>\n",
       "      <th>male</th>\n",
       "      <td>34</td>\n",
       "      <td>1497</td>\n",
       "      <td>789</td>\n",
       "      <td>442356</td>\n",
       "      <td>571</td>\n",
       "      <td>774.70</td>\n",
       "    </tr>\n",
       "  </tbody>\n",
       "</table>\n",
       "</div>"
      ],
      "text/plain": [
       "        min   max median     sum count     avg\n",
       "       bill  bill   bill    bill  bill    bill\n",
       "sex                                           \n",
       "female   33  1500    769  266147   344  773.68\n",
       "male     34  1497    789  442356   571  774.70"
      ]
     },
     "execution_count": 6,
     "metadata": {},
     "output_type": "execute_result"
    }
   ],
   "source": [
    "# сводная по полу\n",
    "\n",
    "tbl_3 = pd.pivot_table(df, index='sex', values='bill', aggfunc=['min', 'max', 'median', 'sum', 'count'])\n",
    "tbl_3[('avg', 'bill')] = (tbl_3[('sum', 'bill')] / tbl_3[('count', 'bill')]).round(2)\n",
    "tbl_3"
   ]
  },
  {
   "cell_type": "code",
   "execution_count": 7,
   "id": "679b9669-f7d0-4803-a61e-8b6c3ccdaddb",
   "metadata": {},
   "outputs": [
    {
     "data": {
      "text/html": [
       "<div>\n",
       "<style scoped>\n",
       "    .dataframe tbody tr th:only-of-type {\n",
       "        vertical-align: middle;\n",
       "    }\n",
       "\n",
       "    .dataframe tbody tr th {\n",
       "        vertical-align: top;\n",
       "    }\n",
       "\n",
       "    .dataframe thead tr th {\n",
       "        text-align: left;\n",
       "    }\n",
       "\n",
       "    .dataframe thead tr:last-of-type th {\n",
       "        text-align: right;\n",
       "    }\n",
       "</style>\n",
       "<table border=\"1\" class=\"dataframe\">\n",
       "  <thead>\n",
       "    <tr>\n",
       "      <th></th>\n",
       "      <th>min</th>\n",
       "      <th>max</th>\n",
       "      <th>median</th>\n",
       "      <th>sum</th>\n",
       "      <th>count</th>\n",
       "      <th>avg</th>\n",
       "    </tr>\n",
       "    <tr>\n",
       "      <th></th>\n",
       "      <th>bill</th>\n",
       "      <th>bill</th>\n",
       "      <th>bill</th>\n",
       "      <th>bill</th>\n",
       "      <th>bill</th>\n",
       "      <th>bill</th>\n",
       "    </tr>\n",
       "    <tr>\n",
       "      <th>region</th>\n",
       "      <th></th>\n",
       "      <th></th>\n",
       "      <th></th>\n",
       "      <th></th>\n",
       "      <th></th>\n",
       "      <th></th>\n",
       "    </tr>\n",
       "  </thead>\n",
       "  <tbody>\n",
       "    <tr>\n",
       "      <th>?Havana</th>\n",
       "      <td>141</td>\n",
       "      <td>141</td>\n",
       "      <td>141.0</td>\n",
       "      <td>141</td>\n",
       "      <td>1</td>\n",
       "      <td>141.00</td>\n",
       "    </tr>\n",
       "    <tr>\n",
       "      <th>Aberdeen</th>\n",
       "      <td>232</td>\n",
       "      <td>1028</td>\n",
       "      <td>630.0</td>\n",
       "      <td>1260</td>\n",
       "      <td>2</td>\n",
       "      <td>630.00</td>\n",
       "    </tr>\n",
       "    <tr>\n",
       "      <th>Albany</th>\n",
       "      <td>1278</td>\n",
       "      <td>1278</td>\n",
       "      <td>1278.0</td>\n",
       "      <td>1278</td>\n",
       "      <td>1</td>\n",
       "      <td>1278.00</td>\n",
       "    </tr>\n",
       "    <tr>\n",
       "      <th>Altdorf</th>\n",
       "      <td>995</td>\n",
       "      <td>1441</td>\n",
       "      <td>1218.0</td>\n",
       "      <td>2436</td>\n",
       "      <td>2</td>\n",
       "      <td>1218.00</td>\n",
       "    </tr>\n",
       "    <tr>\n",
       "      <th>Amenia</th>\n",
       "      <td>1044</td>\n",
       "      <td>1330</td>\n",
       "      <td>1187.0</td>\n",
       "      <td>2374</td>\n",
       "      <td>2</td>\n",
       "      <td>1187.00</td>\n",
       "    </tr>\n",
       "    <tr>\n",
       "      <th>...</th>\n",
       "      <td>...</td>\n",
       "      <td>...</td>\n",
       "      <td>...</td>\n",
       "      <td>...</td>\n",
       "      <td>...</td>\n",
       "      <td>...</td>\n",
       "    </tr>\n",
       "    <tr>\n",
       "      <th>Woodford County</th>\n",
       "      <td>1217</td>\n",
       "      <td>1217</td>\n",
       "      <td>1217.0</td>\n",
       "      <td>1217</td>\n",
       "      <td>1</td>\n",
       "      <td>1217.00</td>\n",
       "    </tr>\n",
       "    <tr>\n",
       "      <th>Worcester</th>\n",
       "      <td>223</td>\n",
       "      <td>1262</td>\n",
       "      <td>1019.0</td>\n",
       "      <td>2504</td>\n",
       "      <td>3</td>\n",
       "      <td>834.67</td>\n",
       "    </tr>\n",
       "    <tr>\n",
       "      <th>Yoevil</th>\n",
       "      <td>128</td>\n",
       "      <td>128</td>\n",
       "      <td>128.0</td>\n",
       "      <td>128</td>\n",
       "      <td>1</td>\n",
       "      <td>128.00</td>\n",
       "    </tr>\n",
       "    <tr>\n",
       "      <th>Youngstown</th>\n",
       "      <td>371</td>\n",
       "      <td>1346</td>\n",
       "      <td>730.5</td>\n",
       "      <td>3178</td>\n",
       "      <td>4</td>\n",
       "      <td>794.50</td>\n",
       "    </tr>\n",
       "    <tr>\n",
       "      <th>Zurich</th>\n",
       "      <td>178</td>\n",
       "      <td>844</td>\n",
       "      <td>268.0</td>\n",
       "      <td>1290</td>\n",
       "      <td>3</td>\n",
       "      <td>430.00</td>\n",
       "    </tr>\n",
       "  </tbody>\n",
       "</table>\n",
       "<p>304 rows × 6 columns</p>\n",
       "</div>"
      ],
      "text/plain": [
       "                  min   max  median   sum count      avg\n",
       "                 bill  bill    bill  bill  bill     bill\n",
       "region                                                  \n",
       "?Havana           141   141   141.0   141     1   141.00\n",
       "Aberdeen          232  1028   630.0  1260     2   630.00\n",
       "Albany           1278  1278  1278.0  1278     1  1278.00\n",
       "Altdorf           995  1441  1218.0  2436     2  1218.00\n",
       "Amenia           1044  1330  1187.0  2374     2  1187.00\n",
       "...               ...   ...     ...   ...   ...      ...\n",
       "Woodford County  1217  1217  1217.0  1217     1  1217.00\n",
       "Worcester         223  1262  1019.0  2504     3   834.67\n",
       "Yoevil            128   128   128.0   128     1   128.00\n",
       "Youngstown        371  1346   730.5  3178     4   794.50\n",
       "Zurich            178   844   268.0  1290     3   430.00\n",
       "\n",
       "[304 rows x 6 columns]"
      ]
     },
     "execution_count": 7,
     "metadata": {},
     "output_type": "execute_result"
    }
   ],
   "source": [
    "# сводная по региону\n",
    "\n",
    "tbl_4 = pd.pivot_table(df, index='region', values='bill', aggfunc=['min', 'max', 'median', 'sum', 'count'])\n",
    "tbl_4[('avg', 'bill')] = (tbl_4[('sum', 'bill')] / tbl_4[('count', 'bill')]).round(2)\n",
    "tbl_4"
   ]
  },
  {
   "cell_type": "markdown",
   "id": "531714c6-48f6-478b-8535-7f5388bab08e",
   "metadata": {},
   "source": [
    "## Задание 3\n",
    "Оцените зависимость суммы покупки от региона. Выполните визуализацию результатов анализа зависимости. Чтобы выполнить задание, можно использовать библиотеки Seaborn или Plotly (по вашему выбору)."
   ]
  },
  {
   "cell_type": "markdown",
   "id": "bd98cecb-1d04-475c-a1f6-93909ba59420",
   "metadata": {},
   "source": [
    "Чтобы оценить зависимость, стоит сначала проверить количественную переменную, т.е. чек, на нормальность, чтобы понимать, какие стат. модели можно включать в исследование, а какие - нет"
   ]
  },
  {
   "cell_type": "code",
   "execution_count": 8,
   "id": "aaa75b8f-fb61-4a09-8f22-5d86ac5e1390",
   "metadata": {},
   "outputs": [
    {
     "data": {
      "text/plain": [
       "count     915.000000\n",
       "mean      774.320219\n",
       "std       413.293281\n",
       "min        33.000000\n",
       "25%       418.500000\n",
       "50%       778.000000\n",
       "75%      1138.500000\n",
       "max      1500.000000\n",
       "Name: bill, dtype: float64"
      ]
     },
     "execution_count": 8,
     "metadata": {},
     "output_type": "execute_result"
    }
   ],
   "source": [
    "# стат. характеристика столбца чек\n",
    "\n",
    "df['bill'].describe()"
   ]
  },
  {
   "cell_type": "code",
   "execution_count": 9,
   "id": "e7c6467f-535e-4e33-9346-60e7f180f9da",
   "metadata": {},
   "outputs": [
    {
     "data": {
      "text/plain": [
       "{'whiskers': [<matplotlib.lines.Line2D at 0x184c0acbe10>,\n",
       "  <matplotlib.lines.Line2D at 0x184c0ad8a90>],\n",
       " 'caps': [<matplotlib.lines.Line2D at 0x184c02775d0>,\n",
       "  <matplotlib.lines.Line2D at 0x184c0ad9d10>],\n",
       " 'boxes': [<matplotlib.lines.Line2D at 0x184c02ab050>],\n",
       " 'medians': [<matplotlib.lines.Line2D at 0x184c0ada610>],\n",
       " 'fliers': [<matplotlib.lines.Line2D at 0x184c0adab50>],\n",
       " 'means': []}"
      ]
     },
     "execution_count": 9,
     "metadata": {},
     "output_type": "execute_result"
    },
    {
     "data": {
      "image/png": "[encoded data removed]",
      "text/plain": [
       "<Figure size 640x480 with 1 Axes>"
      ]
     },
     "metadata": {},
     "output_type": "display_data"
    }
   ],
   "source": [
    "# проверка на выбросы и перекосы в процентилях\n",
    "\n",
    "plt.boxplot(df['bill'])"
   ]
  },
  {
   "cell_type": "code",
   "execution_count": 10,
   "id": "7a40ea85-eb4e-4535-b2b4-918e14751181",
   "metadata": {},
   "outputs": [
    {
     "data": {
      "image/png": "[encoded data removed]",
      "text/plain": [
       "<Figure size 640x480 with 1 Axes>"
      ]
     },
     "metadata": {},
     "output_type": "display_data"
    }
   ],
   "source": [
    "# накладываем распределение количественной перменной на форму нормального распределения\n",
    "\n",
    "mu, std = norm.fit(df['bill'])\n",
    "\n",
    "plt.hist(df['bill'], bins=50, density=True, alpha=0.6, color='b')\n",
    "\n",
    "xmin, xmax = plt.xlim()\n",
    "x = np.linspace(xmin, xmax, 100)\n",
    "p = norm.pdf(x, mu, std)\n",
    "\n",
    "plt.plot(x, p, 'k', linewidth=2)\n",
    "title = \"Fit Values: {:.2f} (mean) and {:.2f} (std)\".format(mu, std)\n",
    "plt.title(title)\n",
    "\n",
    "plt.show()"
   ]
  },
  {
   "cell_type": "code",
   "execution_count": 11,
   "id": "bb76784b-bf9f-49c7-a40d-a2831e11dc00",
   "metadata": {},
   "outputs": [
    {
     "data": {
      "text/plain": [
       "<seaborn.axisgrid.FacetGrid at 0x184c02ab150>"
      ]
     },
     "execution_count": 11,
     "metadata": {},
     "output_type": "execute_result"
    },
    {
     "data": {
      "image/png": "[encoded data removed]",
      "text/plain": [
       "<Figure size 500x500 with 1 Axes>"
      ]
     },
     "metadata": {},
     "output_type": "display_data"
    }
   ],
   "source": [
    "# смотрим на реальное распределение переменной\n",
    "\n",
    "sns.displot(df['bill'], kde=True, \n",
    "             bins=50, color = 'darkblue')"
   ]
  },
  {
   "cell_type": "markdown",
   "id": "6d9f34fd-7fcb-4681-9d20-d00a3485d76e",
   "metadata": {},
   "source": [
    "Вывод по распределению: распределение перменной bill не нормально, но при этом равномерно, нет выбросов, форма стремится к нормальной. Можно проводить стандартное стат. ислледование"
   ]
  },
  {
   "cell_type": "code",
   "execution_count": 12,
   "id": "817b9bc1-9e9b-47ce-be19-0598a9aa8c07",
   "metadata": {},
   "outputs": [
    {
     "data": {
      "text/html": [
       "<div>\n",
       "<style scoped>\n",
       "    .dataframe tbody tr th:only-of-type {\n",
       "        vertical-align: middle;\n",
       "    }\n",
       "\n",
       "    .dataframe tbody tr th {\n",
       "        vertical-align: top;\n",
       "    }\n",
       "\n",
       "    .dataframe thead tr th {\n",
       "        text-align: left;\n",
       "    }\n",
       "\n",
       "    .dataframe thead tr:last-of-type th {\n",
       "        text-align: right;\n",
       "    }\n",
       "</style>\n",
       "<table border=\"1\" class=\"dataframe\">\n",
       "  <thead>\n",
       "    <tr>\n",
       "      <th></th>\n",
       "      <th>min</th>\n",
       "      <th>max</th>\n",
       "      <th>median</th>\n",
       "      <th>sum</th>\n",
       "      <th>count</th>\n",
       "      <th>avg</th>\n",
       "    </tr>\n",
       "    <tr>\n",
       "      <th></th>\n",
       "      <th>bill</th>\n",
       "      <th>bill</th>\n",
       "      <th>bill</th>\n",
       "      <th>bill</th>\n",
       "      <th>bill</th>\n",
       "      <th>bill</th>\n",
       "    </tr>\n",
       "    <tr>\n",
       "      <th>region</th>\n",
       "      <th></th>\n",
       "      <th></th>\n",
       "      <th></th>\n",
       "      <th></th>\n",
       "      <th></th>\n",
       "      <th></th>\n",
       "    </tr>\n",
       "  </thead>\n",
       "  <tbody>\n",
       "    <tr>\n",
       "      <th>Bath</th>\n",
       "      <td>52</td>\n",
       "      <td>52</td>\n",
       "      <td>52.0</td>\n",
       "      <td>52</td>\n",
       "      <td>1</td>\n",
       "      <td>52.00</td>\n",
       "    </tr>\n",
       "    <tr>\n",
       "      <th>England Oglesby</th>\n",
       "      <td>57</td>\n",
       "      <td>57</td>\n",
       "      <td>57.0</td>\n",
       "      <td>57</td>\n",
       "      <td>1</td>\n",
       "      <td>57.00</td>\n",
       "    </tr>\n",
       "    <tr>\n",
       "      <th>Stoughton</th>\n",
       "      <td>57</td>\n",
       "      <td>57</td>\n",
       "      <td>57.0</td>\n",
       "      <td>57</td>\n",
       "      <td>1</td>\n",
       "      <td>57.00</td>\n",
       "    </tr>\n",
       "    <tr>\n",
       "      <th>Lima</th>\n",
       "      <td>58</td>\n",
       "      <td>58</td>\n",
       "      <td>58.0</td>\n",
       "      <td>58</td>\n",
       "      <td>1</td>\n",
       "      <td>58.00</td>\n",
       "    </tr>\n",
       "    <tr>\n",
       "      <th>Brookline</th>\n",
       "      <td>60</td>\n",
       "      <td>60</td>\n",
       "      <td>60.0</td>\n",
       "      <td>60</td>\n",
       "      <td>1</td>\n",
       "      <td>60.00</td>\n",
       "    </tr>\n",
       "    <tr>\n",
       "      <th>...</th>\n",
       "      <td>...</td>\n",
       "      <td>...</td>\n",
       "      <td>...</td>\n",
       "      <td>...</td>\n",
       "      <td>...</td>\n",
       "      <td>...</td>\n",
       "    </tr>\n",
       "    <tr>\n",
       "      <th>London</th>\n",
       "      <td>202</td>\n",
       "      <td>1402</td>\n",
       "      <td>716.0</td>\n",
       "      <td>9959</td>\n",
       "      <td>13</td>\n",
       "      <td>766.08</td>\n",
       "    </tr>\n",
       "    <tr>\n",
       "      <th>Montreal</th>\n",
       "      <td>67</td>\n",
       "      <td>1477</td>\n",
       "      <td>900.0</td>\n",
       "      <td>10817</td>\n",
       "      <td>14</td>\n",
       "      <td>772.64</td>\n",
       "    </tr>\n",
       "    <tr>\n",
       "      <th>Cornwall</th>\n",
       "      <td>126</td>\n",
       "      <td>1362</td>\n",
       "      <td>608.0</td>\n",
       "      <td>12514</td>\n",
       "      <td>19</td>\n",
       "      <td>658.63</td>\n",
       "    </tr>\n",
       "    <tr>\n",
       "      <th>London</th>\n",
       "      <td>155</td>\n",
       "      <td>1458</td>\n",
       "      <td>756.0</td>\n",
       "      <td>16739</td>\n",
       "      <td>21</td>\n",
       "      <td>797.10</td>\n",
       "    </tr>\n",
       "    <tr>\n",
       "      <th>New York</th>\n",
       "      <td>45</td>\n",
       "      <td>1489</td>\n",
       "      <td>769.0</td>\n",
       "      <td>50169</td>\n",
       "      <td>71</td>\n",
       "      <td>706.61</td>\n",
       "    </tr>\n",
       "  </tbody>\n",
       "</table>\n",
       "<p>304 rows × 6 columns</p>\n",
       "</div>"
      ],
      "text/plain": [
       "                 min   max median    sum count     avg\n",
       "                bill  bill   bill   bill  bill    bill\n",
       "region                                                \n",
       "Bath              52    52   52.0     52     1   52.00\n",
       "England Oglesby   57    57   57.0     57     1   57.00\n",
       "Stoughton         57    57   57.0     57     1   57.00\n",
       "Lima              58    58   58.0     58     1   58.00\n",
       "Brookline         60    60   60.0     60     1   60.00\n",
       "...              ...   ...    ...    ...   ...     ...\n",
       "London           202  1402  716.0   9959    13  766.08\n",
       "Montreal          67  1477  900.0  10817    14  772.64\n",
       "Cornwall         126  1362  608.0  12514    19  658.63\n",
       "London           155  1458  756.0  16739    21  797.10\n",
       "New York          45  1489  769.0  50169    71  706.61\n",
       "\n",
       "[304 rows x 6 columns]"
      ]
     },
     "execution_count": 12,
     "metadata": {},
     "output_type": "execute_result"
    }
   ],
   "source": [
    "# сортировка сводной по регионам для построения топ-20 лучших и худших регионов по сумме чека\n",
    "\n",
    "tbl_4 = tbl_4.sort_values(by=('sum', 'bill'))\n",
    "tbl_4"
   ]
  },
  {
   "cell_type": "code",
   "execution_count": 13,
   "id": "d30ae71f-7dc8-4db8-9f20-db440bb80c23",
   "metadata": {},
   "outputs": [
    {
     "data": {
      "text/plain": [
       "<BarContainer object of 21 artists>"
      ]
     },
     "execution_count": 13,
     "metadata": {},
     "output_type": "execute_result"
    },
    {
     "data": {
      "image/png": "[encoded data removed]",
      "text/plain": [
       "<Figure size 640x480 with 1 Axes>"
      ]
     },
     "metadata": {},
     "output_type": "display_data"
    }
   ],
   "source": [
    "# топ-20 лучших регионов по сумме чека\n",
    "\n",
    "plt.barh(tbl_4.index[-21:], tbl_4[('sum', 'bill')][-21:])"
   ]
  },
  {
   "cell_type": "markdown",
   "id": "d2089248-b5ab-45d0-9200-e4498c881838",
   "metadata": {},
   "source": [
    "В Нью-Йорке наблюдается однозначное лидерство по сумме покупки, остальной топ-20 распределён равномерно"
   ]
  },
  {
   "cell_type": "code",
   "execution_count": 14,
   "id": "8f7cd645-fa7f-49b1-8801-cd7334d03960",
   "metadata": {},
   "outputs": [
    {
     "data": {
      "text/plain": [
       "<BarContainer object of 21 artists>"
      ]
     },
     "execution_count": 14,
     "metadata": {},
     "output_type": "execute_result"
    },
    {
     "data": {
      "image/png": "[encoded data removed]",
      "text/plain": [
       "<Figure size 640x480 with 1 Axes>"
      ]
     },
     "metadata": {},
     "output_type": "display_data"
    }
   ],
   "source": [
    "# топ-20 худших регионов по сумме чека\n",
    "\n",
    "plt.barh(tbl_4.index[:21], tbl_4[('sum', 'bill')][:21])"
   ]
  },
  {
   "cell_type": "markdown",
   "id": "4f481a7c-cf16-4ab5-b6f4-5afd0eee1f07",
   "metadata": {},
   "source": [
    "В топ-20 худших регионов последние 6 показывают почти равные результаты по сумме покупки"
   ]
  },
  {
   "cell_type": "markdown",
   "id": "4c97f684-ef8e-452d-9089-88ad1d32279f",
   "metadata": {},
   "source": [
    "## Задание 4\n",
    "Определите совокупность факторов, которые положительно и отрицательно влияют на сумму покупки. Сформулируйте рекомендации по кратному увеличению продаж с учётом полученных результатов. Выполните визуализацию результатов анализа зависимости. Чтобы выполнить задание, можно использовать библиотеки Pandas и Seaborn или Plotly (по вашему выбору)."
   ]
  },
  {
   "cell_type": "code",
   "execution_count": 15,
   "id": "6dbe2182-0768-4568-afc0-61a8131ef062",
   "metadata": {},
   "outputs": [
    {
     "data": {
      "text/plain": [
       "<BarContainer object of 4 artists>"
      ]
     },
     "execution_count": 15,
     "metadata": {},
     "output_type": "execute_result"
    },
    {
     "data": {
      "image/png": "[encoded data removed]",
      "text/plain": [
       "<Figure size 640x480 with 1 Axes>"
      ]
     },
     "metadata": {},
     "output_type": "display_data"
    }
   ],
   "source": [
    "# распределение суммы покупки по типу устройства\n",
    "\n",
    "plt.barh(tbl_1.index, tbl_1[('sum', 'bill')])"
   ]
  },
  {
   "cell_type": "code",
   "execution_count": 16,
   "id": "00cbc707-873f-4602-8e99-d7a166fdb0fb",
   "metadata": {},
   "outputs": [
    {
     "data": {
      "text/plain": [
       "<BarContainer object of 4 artists>"
      ]
     },
     "execution_count": 16,
     "metadata": {},
     "output_type": "execute_result"
    },
    {
     "data": {
      "image/png": "[encoded data removed]",
      "text/plain": [
       "<Figure size 640x480 with 1 Axes>"
      ]
     },
     "metadata": {},
     "output_type": "display_data"
    }
   ],
   "source": [
    "# распределение суммы покупки по браузерам\n",
    "\n",
    "plt.barh(tbl_2.index, tbl_2[('sum', 'bill')])"
   ]
  },
  {
   "cell_type": "code",
   "execution_count": 17,
   "id": "60219a81-ffec-4544-8eb0-ae4529eb69a8",
   "metadata": {},
   "outputs": [
    {
     "data": {
      "text/plain": [
       "<BarContainer object of 2 artists>"
      ]
     },
     "execution_count": 17,
     "metadata": {},
     "output_type": "execute_result"
    },
    {
     "data": {
      "image/png": "[encoded data removed]",
      "text/plain": [
       "<Figure size 640x480 with 1 Axes>"
      ]
     },
     "metadata": {},
     "output_type": "display_data"
    }
   ],
   "source": [
    "# распределение суммы покупки по полу\n",
    "\n",
    "plt.barh(tbl_3.index, tbl_3[('sum', 'bill')])"
   ]
  },
  {
   "cell_type": "markdown",
   "id": "23a3cadb-fcde-4e1d-8b89-add2175c5728",
   "metadata": {},
   "source": [
    "Чтобы однозначно дать оценку того, какая номинативная перменная (или совокупность переменных) влияет на чек, стоит провести многофакторный дисперсионный анализ (3-way ANOVA)"
   ]
  },
  {
   "cell_type": "code",
   "execution_count": 18,
   "id": "1f0e4e79-5fdc-4292-adb5-887f9a4d5a03",
   "metadata": {},
   "outputs": [
    {
     "data": {
      "text/html": [
       "<div>\n",
       "<style scoped>\n",
       "    .dataframe tbody tr th:only-of-type {\n",
       "        vertical-align: middle;\n",
       "    }\n",
       "\n",
       "    .dataframe tbody tr th {\n",
       "        vertical-align: top;\n",
       "    }\n",
       "\n",
       "    .dataframe thead th {\n",
       "        text-align: right;\n",
       "    }\n",
       "</style>\n",
       "<table border=\"1\" class=\"dataframe\">\n",
       "  <thead>\n",
       "    <tr style=\"text-align: right;\">\n",
       "      <th></th>\n",
       "      <th>sum_sq</th>\n",
       "      <th>df</th>\n",
       "      <th>F</th>\n",
       "      <th>PR(&gt;F)</th>\n",
       "    </tr>\n",
       "  </thead>\n",
       "  <tbody>\n",
       "    <tr>\n",
       "      <th>C(device_type)</th>\n",
       "      <td>5.082735e+05</td>\n",
       "      <td>3.0</td>\n",
       "      <td>0.977659</td>\n",
       "      <td>0.402580</td>\n",
       "    </tr>\n",
       "    <tr>\n",
       "      <th>C(browser)</th>\n",
       "      <td>7.609035e+05</td>\n",
       "      <td>3.0</td>\n",
       "      <td>1.463591</td>\n",
       "      <td>0.223026</td>\n",
       "    </tr>\n",
       "    <tr>\n",
       "      <th>C(sex)</th>\n",
       "      <td>2.090553e+02</td>\n",
       "      <td>1.0</td>\n",
       "      <td>0.001206</td>\n",
       "      <td>0.972301</td>\n",
       "    </tr>\n",
       "    <tr>\n",
       "      <th>C(device_type):C(browser)</th>\n",
       "      <td>2.647520e+05</td>\n",
       "      <td>9.0</td>\n",
       "      <td>0.169749</td>\n",
       "      <td>0.996899</td>\n",
       "    </tr>\n",
       "    <tr>\n",
       "      <th>C(device_type):C(sex)</th>\n",
       "      <td>5.228425e+05</td>\n",
       "      <td>3.0</td>\n",
       "      <td>1.005683</td>\n",
       "      <td>0.389532</td>\n",
       "    </tr>\n",
       "    <tr>\n",
       "      <th>C(browser):C(sex)</th>\n",
       "      <td>1.427713e+05</td>\n",
       "      <td>3.0</td>\n",
       "      <td>0.274619</td>\n",
       "      <td>0.843733</td>\n",
       "    </tr>\n",
       "    <tr>\n",
       "      <th>C(device_type):C(browser):C(sex)</th>\n",
       "      <td>9.004163e+05</td>\n",
       "      <td>9.0</td>\n",
       "      <td>0.577314</td>\n",
       "      <td>0.816437</td>\n",
       "    </tr>\n",
       "    <tr>\n",
       "      <th>Residual</th>\n",
       "      <td>1.530204e+08</td>\n",
       "      <td>883.0</td>\n",
       "      <td>NaN</td>\n",
       "      <td>NaN</td>\n",
       "    </tr>\n",
       "  </tbody>\n",
       "</table>\n",
       "</div>"
      ],
      "text/plain": [
       "                                        sum_sq     df         F    PR(>F)\n",
       "C(device_type)                    5.082735e+05    3.0  0.977659  0.402580\n",
       "C(browser)                        7.609035e+05    3.0  1.463591  0.223026\n",
       "C(sex)                            2.090553e+02    1.0  0.001206  0.972301\n",
       "C(device_type):C(browser)         2.647520e+05    9.0  0.169749  0.996899\n",
       "C(device_type):C(sex)             5.228425e+05    3.0  1.005683  0.389532\n",
       "C(browser):C(sex)                 1.427713e+05    3.0  0.274619  0.843733\n",
       "C(device_type):C(browser):C(sex)  9.004163e+05    9.0  0.577314  0.816437\n",
       "Residual                          1.530204e+08  883.0       NaN       NaN"
      ]
     },
     "execution_count": 18,
     "metadata": {},
     "output_type": "execute_result"
    }
   ],
   "source": [
    "# Зависимость суммы покупки от браузера, устройства и пола (многофакторный ANOVA)\n",
    "\n",
    "model = ols(\"\"\"bill ~ C(device_type) + C(browser) + C(sex) +\n",
    "               C(device_type):C(browser) + C(device_type):C(sex) + C(browser):C(sex) +\n",
    "               C(device_type):C(browser):C(sex)\"\"\", data=df).fit()\n",
    "\n",
    "sm.stats.anova_lm(model, typ=2)"
   ]
  },
  {
   "cell_type": "markdown",
   "id": "10967bf1-7ced-48b7-ad2b-8693a4774c67",
   "metadata": {},
   "source": [
    "Вывод по ANOVA: ни одна из перменных или их совокупностей не оказывает статистически значимого влияния на чек покупки, т.к. во всех случаях p-уровень значимости (PR(>F)) не опускается ниже 0,05"
   ]
  },
  {
   "cell_type": "markdown",
   "id": "4136ad15-3c69-47ac-94b6-331e4ec0a85a",
   "metadata": {},
   "source": [
    "РЕКОМЕНДАЦИИ по увеличению продаж:\n",
    "\n",
    "Тем не менее, согласно мат. модели, построенной в ходе ANOVA, можно сделать вывод, что наибольшее влияние на чек оказывают браузеры и сочетание браузера и пола. Это же наблюдается и в вышепостроенных графиках: лучшие показатели по сумме чека показывают 1) мужчины, 2) firefox, chrome. Стоит сосредоточиться на оптимизации сайта под технические нужды этих браузеров, рекламные кампании - под интересы мужского пола"
   ]
  },
  {
   "cell_type": "code",
   "execution_count": null,
   "id": "59eb1fa7-ab0b-4bfc-88a5-55f02c6827b7",
   "metadata": {},
   "outputs": [],
   "source": []
  }
 ],
 "metadata": {
  "kernelspec": {
   "display_name": "Python 3 (ipykernel)",
   "language": "python",
   "name": "python3"
  },
  "language_info": {
   "codemirror_mode": {
    "name": "ipython",
    "version": 3
   },
   "file_extension": ".py",
   "mimetype": "text/x-python",
   "name": "python",
   "nbconvert_exporter": "python",
   "pygments_lexer": "ipython3",
   "version": "3.11.5"
  }
 },
 "nbformat": 4,
 "nbformat_minor": 5
}
