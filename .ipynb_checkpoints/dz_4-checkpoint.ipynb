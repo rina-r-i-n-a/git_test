{
 "cells": [
  {
   "cell_type": "code",
   "execution_count": 1,
   "id": "0e249fad-6436-43bd-bd00-e2eaa8073ed4",
   "metadata": {},
   "outputs": [],
   "source": [
    "documents = [\n",
    " {'type': 'passport', 'number': '2207 876234', 'name': 'Василий Гупкин'},\n",
    " {'type': 'invoice', 'number': '11-2', 'name': 'Геннадий Покемонов'},\n",
    " {'type': 'insurance', 'number': '10006', 'name': 'Аристарх Павлов'}\n",
    "]\n",
    "\n",
    "directories = {\n",
    " '1': ['2207 876234', '11-2'],\n",
    " '2': ['10006'],\n",
    " '3': []\n",
    "}"
   ]
  },
  {
   "cell_type": "code",
   "execution_count": 4,
   "id": "808057f2-3294-4ee7-9fe9-124d4257b839",
   "metadata": {},
   "outputs": [
    {
     "name": "stdin",
     "output_type": "stream",
     "text": [
      "Введите команду: p\n",
      "Введите номер документа: 2207 876234\n"
     ]
    },
    {
     "name": "stdout",
     "output_type": "stream",
     "text": [
      "Владелец документа: Василий Гупкин\n"
     ]
    },
    {
     "name": "stdin",
     "output_type": "stream",
     "text": [
      "Введите команду: p\n",
      "Введите номер документа: 11-2\n"
     ]
    },
    {
     "name": "stdout",
     "output_type": "stream",
     "text": [
      "Владелец документа: Геннадий Покемонов\n"
     ]
    },
    {
     "name": "stdin",
     "output_type": "stream",
     "text": [
      "Введите команду: s\n",
      "Введите номер документа: 10006\n"
     ]
    },
    {
     "name": "stdout",
     "output_type": "stream",
     "text": [
      "Документ хранится на полке: 2\n"
     ]
    },
    {
     "name": "stdin",
     "output_type": "stream",
     "text": [
      "Введите команду: q\n"
     ]
    }
   ],
   "source": [
    "def p_command(number):\n",
    "    for el in documents:\n",
    "        if el['number'] == number:\n",
    "            return el['name']\n",
    "            break\n",
    "\n",
    "def s_command(number):\n",
    "    for key, value in directories.items():\n",
    "        if number in value:\n",
    "            return key\n",
    "            break\n",
    "\n",
    "while True:\n",
    "    command = input('Введите команду:')\n",
    "    if command == 'p':\n",
    "        number = input('Введите номер документа:')\n",
    "        name = p_command(number)\n",
    "        print('Владелец документа:', name)\n",
    "    elif command == 's':\n",
    "        number = input('Введите номер документа:')\n",
    "        shelf = s_command(number)\n",
    "        print('Документ хранится на полке:', shelf)\n",
    "    elif command == 'q':\n",
    "        break\n",
    "    else:\n",
    "        print('Неверная команда')"
   ]
  },
  {
   "cell_type": "code",
   "execution_count": null,
   "id": "aab89cf3-7c92-498a-9720-0be14b834acf",
   "metadata": {},
   "outputs": [],
   "source": []
  }
 ],
 "metadata": {
  "kernelspec": {
   "display_name": "Python 3 (ipykernel)",
   "language": "python",
   "name": "python3"
  },
  "language_info": {
   "codemirror_mode": {
    "name": "ipython",
    "version": 3
   },
   "file_extension": ".py",
   "mimetype": "text/x-python",
   "name": "python",
   "nbconvert_exporter": "python",
   "pygments_lexer": "ipython3",
   "version": "3.11.5"
  }
 },
 "nbformat": 4,
 "nbformat_minor": 5
}
